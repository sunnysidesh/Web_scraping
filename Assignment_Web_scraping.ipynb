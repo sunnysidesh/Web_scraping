{
  "nbformat": 4,
  "nbformat_minor": 0,
  "metadata": {
    "colab": {
      "name": "Assignment_Web scraping.ipynb",
      "provenance": [],
      "collapsed_sections": []
    },
    "kernelspec": {
      "name": "python3",
      "display_name": "Python 3"
    }
  },
  "cells": [
    {
      "cell_type": "code",
      "metadata": {
        "id": "D0IGxv5pd4wQ",
        "colab_type": "code",
        "colab": {}
      },
      "source": [
        "import requests\n",
        "url = ' https://www.space.com/news'\n",
        "response = requests.get(url)\n",
        "\n",
        "from bs4 import BeautifulSoup\n",
        "soup = BeautifulSoup(data, 'html.parser')\n",
        "\n",
        "if(response.ok):\n",
        "  data = response.text\n",
        "  soup = BeautifulSoup(data, 'html.parser')\n",
        "  \n",
        "  stories = soup.select('.listingResults')\n",
        "  print(stories)\n",
        "\n"
      ],
      "execution_count": 0,
      "outputs": []
    },
    {
      "cell_type": "code",
      "metadata": {
        "id": "xwGRfr-G8S67",
        "colab_type": "code",
        "colab": {}
      },
      "source": [
        "author_name = soup.select('.by-author')\n",
        "print(author_name)"
      ],
      "execution_count": 0,
      "outputs": []
    },
    {
      "cell_type": "code",
      "metadata": {
        "id": "jbxzTIwT9PlJ",
        "colab_type": "code",
        "colab": {}
      },
      "source": [
        "synopsis = soup.select('.synopsis')\n",
        "print(synopsis)"
      ],
      "execution_count": 0,
      "outputs": []
    },
    {
      "cell_type": "code",
      "metadata": {
        "id": "KH-b6njv9Z4U",
        "colab_type": "code",
        "colab": {}
      },
      "source": [
        "dates = soup.select('.published-date')\n",
        "print(dates)"
      ],
      "execution_count": 0,
      "outputs": []
    },
    {
      "cell_type": "code",
      "metadata": {
        "id": "8OVoInjaCNka",
        "colab_type": "code",
        "colab": {}
      },
      "source": [
        "date_time = soup.find_all(class_= 'published-date relative-date')\n",
        "print(date_time)"
      ],
      "execution_count": 0,
      "outputs": []
    }
  ]
}